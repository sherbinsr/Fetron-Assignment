


import matplotlib.pyplot as plt
from itertools import combinations





flight1 = [(1,1), (2,2), (3,3)]
flight2 = [(1,1), (2,4), (3,2)]
flight3 = [(1,1), (4,2), (3,4)]

flights = [flight1, flight2, flight3]





def plot_flight_paths(flights):
    plt.figure(figsize=(8, 6))
    colors = ['r', 'g', 'b']
    
    for i, flight in enumerate(flights):
        x_coords, y_coords = zip(*flight)
        plt.plot(x_coords, y_coords, marker='o', color=colors[i], label=f'Flight {i+1}')
    
    plt.xlabel('X Coordinate')
    plt.ylabel('Y Coordinate')
    plt.title('Flight Paths')
    plt.legend()
    plt.grid(True)
    plt.show()







def do_lines_intersect(p1, p2, q1, q2):
    def ccw(A, B, C):
        return (C[1]-A[1]) * (B[0]-A[0]) > (B[1]-A[1]) * (C[0]-A[0])
    
    return ccw(p1, q1, q2) != ccw(p2, q1, q2) and ccw(p1, p2, q1) != ccw(p1, p2, q2)






def check_intersections(flights):
    segments = []
    for flight in flights:
        for i in range(len(flight) - 1):
            segments.append((flight[i], flight[i+1]))
    
    for (p1, p2), (q1, q2) in combinations(segments, 2):
        if do_lines_intersect(p1, p2, q1, q2):
            return True
    return False






plot_flight_paths(flights)
intersections_exist = check_intersections(flights)
print("Does intersections exist:", intersections_exist)
